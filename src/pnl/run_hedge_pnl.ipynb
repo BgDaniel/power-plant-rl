{
 "cells": [
  {
   "metadata": {
    "collapsed": true
   },
   "cell_type": "markdown",
   "source": [
    "# Power Plant Hedging Simulation\n",
    "\n",
    "This notebook simulates a power plant’s operations, calculates hedging strategies, and analyzes PnL (Profit and Loss). The workflow includes:\n",
    "\n",
    "1. Setting up the environment and simulation parameters.\n",
    "2. Initializing forward curves and spread models.\n",
    "3. Running the power plant simulation.\n",
    "4. Executing the minimum variance hedging strategy.\n",
    "5. Calculating and plotting the PnL.\n",
    "\n",
    "---\n",
    "\n"
   ],
   "id": "370b6c0d6d12e013"
  },
  {
   "metadata": {
    "ExecuteTime": {
     "end_time": "2025-09-26T17:58:02.980718Z",
     "start_time": "2025-09-26T17:58:00.150038Z"
    }
   },
   "cell_type": "code",
   "source": [
    "import pandas as pd\n",
    "import os\n",
    "\n",
    "from forward_curve.forward_curve import generate_yearly_seasonal_curve, ForwardCurve\n",
    "from hedging.min_var_hedge import MinVarHedge\n",
    "from hedging.ops_plot_min_var_hedge import OpsPlotMinVarHedge\n",
    "from market_simulation.spread_model.spread_model import SpreadModel\n",
    "from pnl.hedge_pnl import HedgePnL\n",
    "from valuation.operations_states import OperationalState\n",
    "from valuation.power_plant.ops_plot_power_plant import OpsPlotPowerPlant\n",
    "from valuation.power_plant.power_plant import PowerPlant\n",
    "from base_config import CONFIG_FOLDER_ENV\n",
    "\n",
    "\n",
    "# Set the environment variable for this notebook session\n",
    "os.environ[CONFIG_FOLDER_ENV] = \"C:\\Projects\\power-plant-rl\\config\""
   ],
   "id": "49d1464d1583c6ca",
   "outputs": [],
   "execution_count": 2
  },
  {
   "metadata": {},
   "cell_type": "markdown",
   "source": [
    "## 1. Simulation Configuration\n",
    "Set up the simulation period, number of Monte Carlo simulations, and paths for configuration files."
   ],
   "id": "129bd2c3babc4ddc"
  },
  {
   "metadata": {
    "ExecuteTime": {
     "end_time": "2025-09-26T17:58:03.126711Z",
     "start_time": "2025-09-26T17:58:03.116273Z"
    }
   },
   "cell_type": "code",
   "source": [
    "# Simulation configuration\n",
    "config_path_spread_model = \"model_configs/spread_model.json\"\n",
    "as_of_date = pd.Timestamp(\"2025-09-30\")\n",
    "\n",
    "simulation_start = as_of_date\n",
    "simulation_end = pd.Timestamp(\"2026-12-31\")\n",
    "simulation_days = pd.date_range(start=simulation_start, end=simulation_end, freq=\"D\")\n",
    "\n",
    "n_sims = 1000"
   ],
   "id": "956f2ad7ee935283",
   "outputs": [],
   "execution_count": 3
  },
  {
   "metadata": {},
   "cell_type": "markdown",
   "source": [
    "## 2. Initialize Forward Curves and Spread Model\n",
    "We generate forward curves for power and coal and initialize the spread model."
   ],
   "id": "cb1ce2c16f90783"
  },
  {
   "metadata": {
    "ExecuteTime": {
     "end_time": "2025-09-26T17:58:05.137491Z",
     "start_time": "2025-09-26T17:58:03.140909Z"
    }
   },
   "cell_type": "code",
   "source": [
    "# Generate initial forward curves\n",
    "power_fwd_0 = generate_yearly_seasonal_curve(\n",
    "    as_of_date=as_of_date,\n",
    "    start_date=simulation_start,\n",
    "    end_date=simulation_end,\n",
    "    winter_value=130,\n",
    "    summer_value=40.0,\n",
    ")\n",
    "\n",
    "coal_fwd_0 = ForwardCurve.generate_curve(\n",
    "    as_of_date=as_of_date,\n",
    "    start_date=simulation_start,\n",
    "    end_date=simulation_end,\n",
    "    start_value=90,\n",
    "    end_value=80.0,\n",
    "    name=\"Coal Forward Curve\",\n",
    ")\n",
    "\n",
    "# Initialize spread model\n",
    "spread_model = SpreadModel(as_of_date, simulation_days, config_path=config_path_spread_model)\n",
    "\n",
    "# Simulate spot and forward prices\n",
    "power_fwd, power_month_ahead, power_spot, coal_fwd, coal_month_ahead, coal_spot = spread_model.simulate(\n",
    "    power_fwd_0=power_fwd_0, coal_fwd_0=coal_fwd_0, n_sims=n_sims, use_cache=True\n",
    ")"
   ],
   "id": "29bd4ca72f542b8",
   "outputs": [
    {
     "name": "stdout",
     "output_type": "stream",
     "text": [
      "[CACHE] Loaded cached simulation from C:\\Users\\danie\\AppData\\Local\\Temp\\2c8604723a95bc9eca426696b6c012e3\n"
     ]
    },
    {
     "ename": "KeyboardInterrupt",
     "evalue": "",
     "output_type": "error",
     "traceback": [
      "\u001B[31m---------------------------------------------------------------------------\u001B[39m",
      "\u001B[31mKeyboardInterrupt\u001B[39m                         Traceback (most recent call last)",
      "\u001B[36mCell\u001B[39m\u001B[36m \u001B[39m\u001B[32mIn[4]\u001B[39m\u001B[32m, line 23\u001B[39m\n\u001B[32m     20\u001B[39m spread_model = SpreadModel(as_of_date, simulation_days, config_path=config_path_spread_model)\n\u001B[32m     22\u001B[39m \u001B[38;5;66;03m# Simulate spot and forward prices\u001B[39;00m\n\u001B[32m---> \u001B[39m\u001B[32m23\u001B[39m power_fwd, power_month_ahead, power_spot, coal_fwd, coal_month_ahead, coal_spot = \u001B[43mspread_model\u001B[49m\u001B[43m.\u001B[49m\u001B[43msimulate\u001B[49m\u001B[43m(\u001B[49m\n\u001B[32m     24\u001B[39m \u001B[43m    \u001B[49m\u001B[43mpower_fwd_0\u001B[49m\u001B[43m=\u001B[49m\u001B[43mpower_fwd_0\u001B[49m\u001B[43m,\u001B[49m\u001B[43m \u001B[49m\u001B[43mcoal_fwd_0\u001B[49m\u001B[43m=\u001B[49m\u001B[43mcoal_fwd_0\u001B[49m\u001B[43m,\u001B[49m\u001B[43m \u001B[49m\u001B[43mn_sims\u001B[49m\u001B[43m=\u001B[49m\u001B[43mn_sims\u001B[49m\u001B[43m,\u001B[49m\u001B[43m \u001B[49m\u001B[43muse_cache\u001B[49m\u001B[43m=\u001B[49m\u001B[38;5;28;43;01mTrue\u001B[39;49;00m\n\u001B[32m     25\u001B[39m \u001B[43m)\u001B[49m\n",
      "\u001B[36mFile \u001B[39m\u001B[32mC:\\Projects\\power-plant-rl\\src\\market_simulation\\spread_model\\spread_model.py:153\u001B[39m, in \u001B[36mSpreadModel.simulate\u001B[39m\u001B[34m(self, power_fwd_0, coal_fwd_0, n_sims, **kwargs)\u001B[39m\n\u001B[32m    148\u001B[39m \u001B[38;5;66;03m# simulate both models\u001B[39;00m\n\u001B[32m    149\u001B[39m power_fwd, power_month_ahead, power_spot = \u001B[38;5;28mself\u001B[39m.two_factor_power_model.simulate(\n\u001B[32m    150\u001B[39m     fwd_0=power_fwd_0, n_sims=n_sims\n\u001B[32m    151\u001B[39m )\n\u001B[32m--> \u001B[39m\u001B[32m153\u001B[39m coal_fwd, coal_month_ahead, coal_spot = \u001B[38;5;28;43mself\u001B[39;49m\u001B[43m.\u001B[49m\u001B[43mtwo_factor_coal_model\u001B[49m\u001B[43m.\u001B[49m\u001B[43msimulate\u001B[49m\u001B[43m(\u001B[49m\n\u001B[32m    154\u001B[39m \u001B[43m    \u001B[49m\u001B[43mfwd_0\u001B[49m\u001B[43m=\u001B[49m\u001B[43mcoal_fwd_0\u001B[49m\u001B[43m,\u001B[49m\u001B[43m \u001B[49m\u001B[43mn_sims\u001B[49m\u001B[43m=\u001B[49m\u001B[43mn_sims\u001B[49m\n\u001B[32m    155\u001B[39m \u001B[43m\u001B[49m\u001B[43m)\u001B[49m\n\u001B[32m    157\u001B[39m \u001B[38;5;28;01mreturn\u001B[39;00m (\n\u001B[32m    158\u001B[39m     power_fwd,\n\u001B[32m    159\u001B[39m     power_month_ahead,\n\u001B[32m   (...)\u001B[39m\u001B[32m    163\u001B[39m     coal_spot,\n\u001B[32m    164\u001B[39m )\n",
      "\u001B[36mFile \u001B[39m\u001B[32mC:\\Projects\\power-plant-rl\\src\\market_simulation\\two_factor_model\\simulation_caching.py:84\u001B[39m, in \u001B[36mcache_simulation.<locals>.wrapper\u001B[39m\u001B[34m(self, fwd_0, n_sims, use_cache, *args, **kwargs)\u001B[39m\n\u001B[32m     82\u001B[39m fwds = xr.load_dataarray(fwds_file)\n\u001B[32m     83\u001B[39m month_ahead = pd.read_csv(month_ahead_file, index_col=\u001B[32m0\u001B[39m, parse_dates=\u001B[38;5;28;01mTrue\u001B[39;00m)\n\u001B[32m---> \u001B[39m\u001B[32m84\u001B[39m spot_prices = \u001B[43mpd\u001B[49m\u001B[43m.\u001B[49m\u001B[43mread_csv\u001B[49m\u001B[43m(\u001B[49m\u001B[43mspot_prices_file\u001B[49m\u001B[43m,\u001B[49m\u001B[43m \u001B[49m\u001B[43mindex_col\u001B[49m\u001B[43m=\u001B[49m\u001B[32;43m0\u001B[39;49m\u001B[43m,\u001B[49m\u001B[43m \u001B[49m\u001B[43mparse_dates\u001B[49m\u001B[43m=\u001B[49m\u001B[38;5;28;43;01mTrue\u001B[39;49;00m\u001B[43m)\u001B[49m\n\u001B[32m     86\u001B[39m \u001B[38;5;66;03m# Ensure all time coordinates are pandas Timestamps\u001B[39;00m\n\u001B[32m     87\u001B[39m \u001B[38;5;28;01mif\u001B[39;00m SIMULATION_DAY \u001B[38;5;129;01min\u001B[39;00m fwds.dims:\n",
      "\u001B[36mFile \u001B[39m\u001B[32mC:\\Projects\\power-plant-rl\\venv\\Lib\\site-packages\\pandas\\io\\parsers\\readers.py:1026\u001B[39m, in \u001B[36mread_csv\u001B[39m\u001B[34m(filepath_or_buffer, sep, delimiter, header, names, index_col, usecols, dtype, engine, converters, true_values, false_values, skipinitialspace, skiprows, skipfooter, nrows, na_values, keep_default_na, na_filter, verbose, skip_blank_lines, parse_dates, infer_datetime_format, keep_date_col, date_parser, date_format, dayfirst, cache_dates, iterator, chunksize, compression, thousands, decimal, lineterminator, quotechar, quoting, doublequote, escapechar, comment, encoding, encoding_errors, dialect, on_bad_lines, delim_whitespace, low_memory, memory_map, float_precision, storage_options, dtype_backend)\u001B[39m\n\u001B[32m   1013\u001B[39m kwds_defaults = _refine_defaults_read(\n\u001B[32m   1014\u001B[39m     dialect,\n\u001B[32m   1015\u001B[39m     delimiter,\n\u001B[32m   (...)\u001B[39m\u001B[32m   1022\u001B[39m     dtype_backend=dtype_backend,\n\u001B[32m   1023\u001B[39m )\n\u001B[32m   1024\u001B[39m kwds.update(kwds_defaults)\n\u001B[32m-> \u001B[39m\u001B[32m1026\u001B[39m \u001B[38;5;28;01mreturn\u001B[39;00m \u001B[43m_read\u001B[49m\u001B[43m(\u001B[49m\u001B[43mfilepath_or_buffer\u001B[49m\u001B[43m,\u001B[49m\u001B[43m \u001B[49m\u001B[43mkwds\u001B[49m\u001B[43m)\u001B[49m\n",
      "\u001B[36mFile \u001B[39m\u001B[32mC:\\Projects\\power-plant-rl\\venv\\Lib\\site-packages\\pandas\\io\\parsers\\readers.py:625\u001B[39m, in \u001B[36m_read\u001B[39m\u001B[34m(filepath_or_buffer, kwds)\u001B[39m\n\u001B[32m    622\u001B[39m \u001B[38;5;28;01mif\u001B[39;00m chunksize \u001B[38;5;129;01mor\u001B[39;00m iterator:\n\u001B[32m    623\u001B[39m     \u001B[38;5;28;01mreturn\u001B[39;00m parser\n\u001B[32m--> \u001B[39m\u001B[32m625\u001B[39m \u001B[43m\u001B[49m\u001B[38;5;28;43;01mwith\u001B[39;49;00m\u001B[43m \u001B[49m\u001B[43mparser\u001B[49m\u001B[43m:\u001B[49m\n\u001B[32m    626\u001B[39m \u001B[43m    \u001B[49m\u001B[38;5;28;43;01mreturn\u001B[39;49;00m\u001B[43m \u001B[49m\u001B[43mparser\u001B[49m\u001B[43m.\u001B[49m\u001B[43mread\u001B[49m\u001B[43m(\u001B[49m\u001B[43mnrows\u001B[49m\u001B[43m)\u001B[49m\n",
      "\u001B[36mFile \u001B[39m\u001B[32mC:\\Projects\\power-plant-rl\\venv\\Lib\\site-packages\\pandas\\io\\parsers\\readers.py:1996\u001B[39m, in \u001B[36mTextFileReader.__exit__\u001B[39m\u001B[34m(self, exc_type, exc_value, traceback)\u001B[39m\n\u001B[32m   1990\u001B[39m \u001B[38;5;28;01mdef\u001B[39;00m\u001B[38;5;250m \u001B[39m\u001B[34m__exit__\u001B[39m(\n\u001B[32m   1991\u001B[39m     \u001B[38;5;28mself\u001B[39m,\n\u001B[32m   1992\u001B[39m     exc_type: \u001B[38;5;28mtype\u001B[39m[\u001B[38;5;167;01mBaseException\u001B[39;00m] | \u001B[38;5;28;01mNone\u001B[39;00m,\n\u001B[32m   1993\u001B[39m     exc_value: \u001B[38;5;167;01mBaseException\u001B[39;00m | \u001B[38;5;28;01mNone\u001B[39;00m,\n\u001B[32m   1994\u001B[39m     traceback: TracebackType | \u001B[38;5;28;01mNone\u001B[39;00m,\n\u001B[32m   1995\u001B[39m ) -> \u001B[38;5;28;01mNone\u001B[39;00m:\n\u001B[32m-> \u001B[39m\u001B[32m1996\u001B[39m     \u001B[38;5;28;43mself\u001B[39;49m\u001B[43m.\u001B[49m\u001B[43mclose\u001B[49m\u001B[43m(\u001B[49m\u001B[43m)\u001B[49m\n",
      "\u001B[36mFile \u001B[39m\u001B[32mC:\\Projects\\power-plant-rl\\venv\\Lib\\site-packages\\pandas\\io\\parsers\\readers.py:1624\u001B[39m, in \u001B[36mTextFileReader.close\u001B[39m\u001B[34m(self)\u001B[39m\n\u001B[32m   1622\u001B[39m \u001B[38;5;28;01mdef\u001B[39;00m\u001B[38;5;250m \u001B[39m\u001B[34mclose\u001B[39m(\u001B[38;5;28mself\u001B[39m) -> \u001B[38;5;28;01mNone\u001B[39;00m:\n\u001B[32m   1623\u001B[39m     \u001B[38;5;28;01mif\u001B[39;00m \u001B[38;5;28mself\u001B[39m.handles \u001B[38;5;129;01mis\u001B[39;00m \u001B[38;5;129;01mnot\u001B[39;00m \u001B[38;5;28;01mNone\u001B[39;00m:\n\u001B[32m-> \u001B[39m\u001B[32m1624\u001B[39m         \u001B[38;5;28;43mself\u001B[39;49m\u001B[43m.\u001B[49m\u001B[43mhandles\u001B[49m\u001B[43m.\u001B[49m\u001B[43mclose\u001B[49m\u001B[43m(\u001B[49m\u001B[43m)\u001B[49m\n\u001B[32m   1625\u001B[39m     \u001B[38;5;28mself\u001B[39m._engine.close()\n",
      "\u001B[36mFile \u001B[39m\u001B[32mC:\\Projects\\power-plant-rl\\venv\\Lib\\site-packages\\pandas\\io\\common.py:144\u001B[39m, in \u001B[36mIOHandles.close\u001B[39m\u001B[34m(self)\u001B[39m\n\u001B[32m    142\u001B[39m     \u001B[38;5;28mself\u001B[39m.created_handles.remove(\u001B[38;5;28mself\u001B[39m.handle)\n\u001B[32m    143\u001B[39m \u001B[38;5;28;01mfor\u001B[39;00m handle \u001B[38;5;129;01min\u001B[39;00m \u001B[38;5;28mself\u001B[39m.created_handles:\n\u001B[32m--> \u001B[39m\u001B[32m144\u001B[39m     \u001B[43mhandle\u001B[49m\u001B[43m.\u001B[49m\u001B[43mclose\u001B[49m\u001B[43m(\u001B[49m\u001B[43m)\u001B[49m\n\u001B[32m    145\u001B[39m \u001B[38;5;28mself\u001B[39m.created_handles = []\n\u001B[32m    146\u001B[39m \u001B[38;5;28mself\u001B[39m.is_wrapped = \u001B[38;5;28;01mFalse\u001B[39;00m\n",
      "\u001B[31mKeyboardInterrupt\u001B[39m: "
     ]
    }
   ],
   "execution_count": 4
  },
  {
   "metadata": {},
   "cell_type": "markdown",
   "source": [
    "## 3. Initialize and Optimize the Power Plant\n",
    "Set up the PowerPlant object and run its optimization."
   ],
   "id": "ebed6c43255ae5b4"
  },
  {
   "metadata": {
    "jupyter": {
     "is_executing": true
    },
    "ExecuteTime": {
     "end_time": "2025-09-26T17:58:05.162940900Z",
     "start_time": "2025-09-26T17:52:19.463888Z"
    }
   },
   "cell_type": "code",
   "source": [
    "# Power plant simulation period\n",
    "asset_start = pd.Timestamp(2025, 10, 1)\n",
    "asset_end = asset_start + pd.Timedelta(days=364)\n",
    "asset_days = pd.date_range(start=asset_start, end=asset_end, freq=\"D\")\n",
    "\n",
    "# Initial operational state\n",
    "initial_state = OperationalState.IDLE\n",
    "\n",
    "# Initialize PowerPlant\n",
    "power_plant = PowerPlant(\n",
    "    n_sims=n_sims,\n",
    "    asset_days=asset_days,\n",
    "    initial_state=initial_state,\n",
    "    spots_power=power_spot,\n",
    "    spots_coal=coal_spot,\n",
    "    fwds_power=power_fwd,\n",
    "    fwds_coal=coal_fwd,\n",
    "    fwd_0_power=power_fwd_0,\n",
    "    fwd_0_coal=coal_fwd_0,\n",
    "    config_path=\"asset_configs/power_plant_config.yaml\",\n",
    ")\n",
    "\n",
    "# Optimize plant operations\n",
    "power_plant.optimize()"
   ],
   "id": "41f682404541a4d5",
   "outputs": [
    {
     "name": "stderr",
     "output_type": "stream",
     "text": [
      "Optimizing simulation days:  64%|██████▎   | 232/364 [00:29<00:19,  6.69day/s]"
     ]
    }
   ],
   "execution_count": null
  },
  {
   "metadata": {},
   "cell_type": "markdown",
   "source": [
    "## 4. Minimum Variance Hedging\n",
    "Compute the hedge strategy for the power plant and roll out the cashflows of the hedge."
   ],
   "id": "5bf10fab975dbede"
  },
  {
   "metadata": {},
   "cell_type": "code",
   "outputs": [],
   "execution_count": null,
   "source": [
    "# Initialize hedging strategy\n",
    "min_var_hedge = MinVarHedge(\n",
    "    n_sims=n_sims,\n",
    "    simulation_days=simulation_days,\n",
    "    power_plant=power_plant,\n",
    "    spots_power=power_spot,\n",
    "    spots_coal=coal_spot,\n",
    "    fwds_power=power_fwd,\n",
    "    fwds_coal=coal_fwd,\n",
    ")\n",
    "\n",
    "# Execute hedge and calculate cashflows\n",
    "min_var_hedge.hedge()\n",
    "min_var_hedge.roll_out_cashflows()\n",
    "\n",
    "# Plot the hedge effectiveness and R2\n",
    "ops_plot_min_var_hedge = OpsPlotMinVarHedge(min_var_hedge)\n",
    "ops_plot_min_var_hedge.plot_r2()\n",
    "ops_plot_min_var_hedge.plot_hedge_effectiveness(power_plant.cashflows)"
   ],
   "id": "8ce3c5d8e19e02b2"
  },
  {
   "metadata": {},
   "cell_type": "markdown",
   "source": [
    "## 5. Calculate PnL\n",
    "Compute and visualize the PnL for the hedging strategy."
   ],
   "id": "6e9aa33d017b2338"
  },
  {
   "metadata": {},
   "cell_type": "code",
   "outputs": [],
   "execution_count": null,
   "source": [
    "hedge_pnl = HedgePnL(\n",
    "    n_sims=n_sims,\n",
    "    simulation_days=simulation_days,\n",
    "    asset=power_plant,\n",
    "    hedge=min_var_hedge,\n",
    "    fwds=power_fwd,\n",
    ")\n",
    "\n",
    "hedge_pnl.calculate_pnl()\n",
    "\n",
    "# Plot PnL\n",
    "hedge_pnl.plot_pnl()"
   ],
   "id": "3a4056fabff094"
  }
 ],
 "metadata": {
  "kernelspec": {
   "display_name": "Python 3",
   "language": "python",
   "name": "python3"
  },
  "language_info": {
   "codemirror_mode": {
    "name": "ipython",
    "version": 2
   },
   "file_extension": ".py",
   "mimetype": "text/x-python",
   "name": "python",
   "nbconvert_exporter": "python",
   "pygments_lexer": "ipython2",
   "version": "2.7.6"
  }
 },
 "nbformat": 4,
 "nbformat_minor": 5
}
