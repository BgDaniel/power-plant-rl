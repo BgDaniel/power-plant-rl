{
 "cells": [
  {
   "metadata": {
    "collapsed": true
   },
   "cell_type": "markdown",
   "source": [
    "# Power Plant Hedging Simulation\n",
    "\n",
    "This notebook simulates a power plant’s operations, calculates hedging strategies, and analyzes PnL (Profit and Loss). The workflow includes:\n",
    "\n",
    "1. Setting up the environment and simulation parameters.\n",
    "2. Initializing forward curves and spread models.\n",
    "3. Running the power plant simulation.\n",
    "4. Executing the minimum variance hedging strategy.\n",
    "5. Calculating and plotting the PnL.\n",
    "\n",
    "---\n",
    "\n"
   ],
   "id": "370b6c0d6d12e013"
  },
  {
   "metadata": {
    "ExecuteTime": {
     "end_time": "2025-09-26T18:09:57.917903Z",
     "start_time": "2025-09-26T18:09:57.908829Z"
    }
   },
   "cell_type": "code",
   "source": [
    "import pandas as pd\n",
    "import os\n",
    "\n",
    "from forward_curve.forward_curve import generate_yearly_seasonal_curve, ForwardCurve\n",
    "from hedging.min_var_hedge import MinVarHedge\n",
    "from pnl.ops_plot_hedge_pnl import OpsPlotPnL\n",
    "from market_simulation.spread_model.spread_model import SpreadModel\n",
    "from pnl.hedge_pnl import HedgePnL\n",
    "from valuation.operations_states import OperationalState\n",
    "from valuation.power_plant.power_plant import PowerPlant\n",
    "from base_config import CONFIG_FOLDER_ENV\n",
    "\n",
    "\n",
    "# Set the environment variable for this notebook session\n",
    "os.environ[CONFIG_FOLDER_ENV] = \"C:\\Projects\\power-plant-rl\\config\""
   ],
   "id": "49d1464d1583c6ca",
   "outputs": [],
   "execution_count": 5
  },
  {
   "metadata": {},
   "cell_type": "markdown",
   "source": [
    "## 1. Simulation Configuration\n",
    "Set up the simulation period, number of Monte Carlo simulations, and paths for configuration files."
   ],
   "id": "129bd2c3babc4ddc"
  },
  {
   "metadata": {
    "ExecuteTime": {
     "end_time": "2025-09-26T18:09:57.962110Z",
     "start_time": "2025-09-26T18:09:57.955158Z"
    }
   },
   "cell_type": "code",
   "source": [
    "# Simulation configuration\n",
    "config_path_spread_model = \"model_configs/spread_model.json\"\n",
    "as_of_date = pd.Timestamp(\"2025-09-30\")\n",
    "\n",
    "simulation_start = as_of_date\n",
    "simulation_end = pd.Timestamp(\"2026-12-31\")\n",
    "simulation_days = pd.date_range(start=simulation_start, end=simulation_end, freq=\"D\")\n",
    "\n",
    "n_sims = 1000"
   ],
   "id": "956f2ad7ee935283",
   "outputs": [],
   "execution_count": 6
  },
  {
   "metadata": {},
   "cell_type": "markdown",
   "source": [
    "## 2. Initialize Forward Curves and Spread Model\n",
    "We generate forward curves for power and coal and initialize the spread model."
   ],
   "id": "cb1ce2c16f90783"
  },
  {
   "metadata": {
    "ExecuteTime": {
     "end_time": "2025-09-26T18:09:58.715225Z",
     "start_time": "2025-09-26T18:09:57.995587Z"
    }
   },
   "cell_type": "code",
   "source": [
    "# Generate initial forward curves\n",
    "power_fwd_0 = generate_yearly_seasonal_curve(\n",
    "    as_of_date=as_of_date,\n",
    "    start_date=simulation_start,\n",
    "    end_date=simulation_end,\n",
    "    winter_value=130,\n",
    "    summer_value=40.0,\n",
    ")\n",
    "\n",
    "coal_fwd_0 = ForwardCurve.generate_curve(\n",
    "    as_of_date=as_of_date,\n",
    "    start_date=simulation_start,\n",
    "    end_date=simulation_end,\n",
    "    start_value=90,\n",
    "    end_value=80.0,\n",
    "    name=\"Coal Forward Curve\",\n",
    ")\n",
    "\n",
    "# Initialize spread model\n",
    "spread_model = SpreadModel(as_of_date, simulation_days, config_path=config_path_spread_model)\n",
    "\n",
    "# Simulate spot and forward prices\n",
    "power_fwd, power_month_ahead, power_spot, coal_fwd, coal_month_ahead, coal_spot = spread_model.simulate(\n",
    "    power_fwd_0=power_fwd_0, coal_fwd_0=coal_fwd_0, n_sims=n_sims, use_cache=True\n",
    ")"
   ],
   "id": "29bd4ca72f542b8",
   "outputs": [
    {
     "name": "stdout",
     "output_type": "stream",
     "text": [
      "[CACHE] Loaded cached simulation from C:\\Users\\danie\\AppData\\Local\\Temp\\2c8604723a95bc9eca426696b6c012e3\n",
      "[CACHE] Loaded cached simulation from C:\\Users\\danie\\AppData\\Local\\Temp\\aac566730ea0c44876cebbe7b9e64708\n"
     ]
    }
   ],
   "execution_count": 7
  },
  {
   "metadata": {},
   "cell_type": "markdown",
   "source": [
    "## 3. Initialize and Optimize the Power Plant\n",
    "Set up the PowerPlant object and run its optimization."
   ],
   "id": "ebed6c43255ae5b4"
  },
  {
   "metadata": {
    "ExecuteTime": {
     "end_time": "2025-09-26T18:11:25.006687Z",
     "start_time": "2025-09-26T18:09:58.737547Z"
    }
   },
   "cell_type": "code",
   "source": [
    "# Power plant simulation period\n",
    "asset_start = pd.Timestamp(2025, 10, 1)\n",
    "asset_end = asset_start + pd.Timedelta(days=364)\n",
    "asset_days = pd.date_range(start=asset_start, end=asset_end, freq=\"D\")\n",
    "\n",
    "# Initial operational state\n",
    "initial_state = OperationalState.IDLE\n",
    "\n",
    "# Initialize PowerPlant\n",
    "power_plant = PowerPlant(\n",
    "    n_sims=n_sims,\n",
    "    asset_days=asset_days,\n",
    "    initial_state=initial_state,\n",
    "    spots_power=power_spot,\n",
    "    spots_coal=coal_spot,\n",
    "    fwds_power=power_fwd,\n",
    "    fwds_coal=coal_fwd,\n",
    "    fwd_0_power=power_fwd_0,\n",
    "    fwd_0_coal=coal_fwd_0,\n",
    "    config_path=\"asset_configs/power_plant_config.yaml\",\n",
    ")\n",
    "\n",
    "# Optimize plant operations\n",
    "power_plant.optimize()"
   ],
   "id": "41f682404541a4d5",
   "outputs": [
    {
     "name": "stderr",
     "output_type": "stream",
     "text": [
      "Optimizing simulation days: 100%|██████████| 364/364 [01:20<00:00,  4.52day/s]\n"
     ]
    }
   ],
   "execution_count": 8
  },
  {
   "metadata": {},
   "cell_type": "markdown",
   "source": [
    "## 4. Minimum Variance Hedging\n",
    "Compute the hedge strategy for the power plant and roll out the cashflows of the hedge."
   ],
   "id": "5bf10fab975dbede"
  },
  {
   "metadata": {
    "ExecuteTime": {
     "end_time": "2025-09-26T18:13:10.389347Z",
     "start_time": "2025-09-26T18:11:25.329334Z"
    }
   },
   "cell_type": "code",
   "source": [
    "# Initialize hedging strategy\n",
    "min_var_hedge = MinVarHedge(\n",
    "    n_sims=n_sims,\n",
    "    simulation_days=simulation_days,\n",
    "    power_plant=power_plant,\n",
    "    spots_power=power_spot,\n",
    "    spots_coal=coal_spot,\n",
    "    fwds_power=power_fwd,\n",
    "    fwds_coal=coal_fwd,\n",
    ")\n",
    "\n",
    "# Execute hedge and calculate cashflows\n",
    "min_var_hedge.hedge()\n",
    "min_var_hedge.roll_out_cashflows()"
   ],
   "id": "8ce3c5d8e19e02b2",
   "outputs": [
    {
     "name": "stderr",
     "output_type": "stream",
     "text": [
      "Determine minimal variance hedge: 365day [01:40,  3.62day/s]                        \n"
     ]
    }
   ],
   "execution_count": 9
  },
  {
   "metadata": {},
   "cell_type": "markdown",
   "source": [
    "## 5. Calculate PnL\n",
    "Compute and visualize the PnL for the hedging strategy."
   ],
   "id": "6e9aa33d017b2338"
  },
  {
   "metadata": {
    "ExecuteTime": {
     "end_time": "2025-09-26T18:13:10.625240Z",
     "start_time": "2025-09-26T18:13:10.582935Z"
    }
   },
   "cell_type": "code",
   "source": [
    "hedge_pnl = HedgePnL(\n",
    "    n_sims=n_sims,\n",
    "    simulation_days=simulation_days,\n",
    "    asset=power_plant,\n",
    "    hedge=min_var_hedge\n",
    ")\n",
    "\n",
    "hedge_pnl.calculate_pnl()\n",
    "\n",
    "# Plot PnL\n",
    "ops_plot_pnl = OpsPlotPnL(hedge_pnl)\n",
    "ops_plot_pnl.plot_pnl()"
   ],
   "id": "3a4056fabff094",
   "outputs": [
    {
     "ename": "TypeError",
     "evalue": "HedgePnL.__init__() missing 1 required positional argument: 'fwds'",
     "output_type": "error",
     "traceback": [
      "\u001B[31m---------------------------------------------------------------------------\u001B[39m",
      "\u001B[31mTypeError\u001B[39m                                 Traceback (most recent call last)",
      "\u001B[36mCell\u001B[39m\u001B[36m \u001B[39m\u001B[32mIn[10]\u001B[39m\u001B[32m, line 1\u001B[39m\n\u001B[32m----> \u001B[39m\u001B[32m1\u001B[39m hedge_pnl = \u001B[43mHedgePnL\u001B[49m\u001B[43m(\u001B[49m\n\u001B[32m      2\u001B[39m \u001B[43m    \u001B[49m\u001B[43mn_sims\u001B[49m\u001B[43m=\u001B[49m\u001B[43mn_sims\u001B[49m\u001B[43m,\u001B[49m\n\u001B[32m      3\u001B[39m \u001B[43m    \u001B[49m\u001B[43msimulation_days\u001B[49m\u001B[43m=\u001B[49m\u001B[43msimulation_days\u001B[49m\u001B[43m,\u001B[49m\n\u001B[32m      4\u001B[39m \u001B[43m    \u001B[49m\u001B[43masset\u001B[49m\u001B[43m=\u001B[49m\u001B[43mpower_plant\u001B[49m\u001B[43m,\u001B[49m\n\u001B[32m      5\u001B[39m \u001B[43m    \u001B[49m\u001B[43mhedge\u001B[49m\u001B[43m=\u001B[49m\u001B[43mmin_var_hedge\u001B[49m\n\u001B[32m      6\u001B[39m \u001B[43m)\u001B[49m\n\u001B[32m      8\u001B[39m hedge_pnl.calculate_pnl()\n\u001B[32m     10\u001B[39m \u001B[38;5;66;03m# Plot PnL\u001B[39;00m\n",
      "\u001B[31mTypeError\u001B[39m: HedgePnL.__init__() missing 1 required positional argument: 'fwds'"
     ]
    }
   ],
   "execution_count": 10
  }
 ],
 "metadata": {
  "kernelspec": {
   "display_name": "Python 3",
   "language": "python",
   "name": "python3"
  },
  "language_info": {
   "codemirror_mode": {
    "name": "ipython",
    "version": 2
   },
   "file_extension": ".py",
   "mimetype": "text/x-python",
   "name": "python",
   "nbconvert_exporter": "python",
   "pygments_lexer": "ipython2",
   "version": "2.7.6"
  }
 },
 "nbformat": 4,
 "nbformat_minor": 5
}
